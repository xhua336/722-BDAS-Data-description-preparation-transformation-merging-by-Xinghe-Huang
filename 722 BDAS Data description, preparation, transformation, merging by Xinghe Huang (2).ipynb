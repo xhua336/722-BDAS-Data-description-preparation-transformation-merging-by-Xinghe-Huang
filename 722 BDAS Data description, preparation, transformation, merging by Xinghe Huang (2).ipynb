{
 "cells": [
  {
   "cell_type": "code",
   "execution_count": 1,
   "metadata": {},
   "outputs": [],
   "source": [
    "import findspark\n",
    "findspark.init('/home/ubuntu/spark-2.1.1-bin-hadoop2.7')\n",
    "import pyspark\n",
    "from pyspark.sql import SparkSession\n",
    "spark = SparkSession.builder.appName('Clustering using K-Means_Xinghe Huang').getOrCreate()"
   ]
  },
  {
   "cell_type": "code",
   "execution_count": 3,
   "metadata": {},
   "outputs": [],
   "source": [
    "df = spark.read.load(\"./Customer list.csv\",format=\"csv\",header=\"true\")"
   ]
  },
  {
   "cell_type": "code",
   "execution_count": 4,
   "metadata": {},
   "outputs": [
    {
     "name": "stdout",
     "output_type": "stream",
     "text": [
      "+----------+------------+------+-----------------------------------+----------+----+---+--------------------+---------------------+-----------------+------------------+--------+------+--------------------+--------+-----+---------+------------------+----+--------+\n",
      "|first_name|   last_name|gender|past_3_years_bike_related_purchases|       DOB| _c5|Age|           job_title|job_industry_category|   wealth_segment|deceased_indicator|owns_car|tenure|             address|postcode|state|  country|property_valuation|Rank|   Value|\n",
      "+----------+------------+------+-----------------------------------+----------+----+---+--------------------+---------------------+-----------------+------------------+--------+------+--------------------+--------+-----+---------+------------------+----+--------+\n",
      "|   Chickie|     Brister|  Male|                                 86|12-07-1957|1957| 64|     General Manager|        Manufacturing|    Mass Customer|                 N|     Yes|    14|    45 Shopko Center|    4500|  QLD|Australia|                 6|   1| 1.71875|\n",
      "|     Morly|      Genery|  Male|                                 69|12-07-1958|1958| 63| Structural Engineer|             Property|    Mass Customer|                 N|      No|    16|   14 Mccormick Park|    2113|  NSW|Australia|                11|   1| 1.71875|\n",
      "|   Ardelis|   Forrester|Female|                                 10|12-07-1959|1959| 62|Senior Cost Accou...|   Financial Services|Affluent Customer|                 N|      No|    10| 5 Colorado Crossing|    3505|  VIC|Australia|                 5|   1| 1.71875|\n",
      "|    Lucine|       Stutt|Female|                                 64|12-07-1960|1960| 61|Account Represent...|        Manufacturing|Affluent Customer|                 N|     Yes|     5|  207 Annamark Plaza|    4814|  QLD|Australia|                 1|   4|1.703125|\n",
      "|   Melinda|      Hadlee|Female|                                 34|12-07-1961|1961| 60|   Financial Analyst|   Financial Services|Affluent Customer|                 N|      No|    19|   115 Montana Place|    2093|  NSW|Australia|                 9|   4|1.703125|\n",
      "|     Druci|     Brandli|Female|                                 39|12-07-1962|1962| 59|Assistant Media P...|        Entertainment|   High Net Worth|                 N|     Yes|    22|89105 Pearson Ter...|    4075|  QLD|Australia|                 7|   6|1.671875|\n",
      "|  Rutledge|       Hallt|  Male|                                 23|12-07-1963|1963| 58|Compensation Analyst|   Financial Services|    Mass Customer|                 N|      No|     8|   7 Nevada Crossing|    2620|  NSW|Australia|                 7|   6|1.671875|\n",
      "|    Nancie|        Vian|Female|                                 74|12-07-1964|1964| 57|Human Resources A...|               Retail|    Mass Customer|                 N|     Yes|    10|    85 Carioca Point|    4814|  QLD|Australia|                 5|   8| 1.65625|\n",
      "|      Duff|   Karlowicz|  Male|                                 50|12-07-1965|1965| 56|  Speech Pathologist|        Manufacturing|    Mass Customer|                 N|     Yes|     5|      717 West Drive|    2200|  NSW|Australia|                10|   8| 1.65625|\n",
      "|   Barthel|      Docket|  Male|                                 72|12-07-1966|1966| 55|Accounting Assist...|                   IT|    Mass Customer|                 N|     Yes|    17|80 Scofield Junction|    4151|  QLD|Australia|                 5|  10|1.640625|\n",
      "|  Rockwell|      Matson|  Male|                                 94|12-07-1967|1967| 54|Programmer Analyst I|               Retail|   High Net Worth|                 N|      No|     3|  3682 Crowley Point|    4573|  QLD|Australia|                 6|  10|1.640625|\n",
      "|   Wheeler|     Winward|  Male|                                 48|12-07-1968|1968| 53|Environmental Spe...|        Manufacturing|    Mass Customer|                 N|      No|    10| 3 Golden Leaf Point|    3216|  VIC|Australia|                 8|  12|   1.625|\n",
      "|      Olag|        null|  Male|                                 60|12-07-1969|1969| 52|Human Resources M...|   Telecommunications|    Mass Customer|                 N|      No|     9|   0484 North Avenue|    2032|  NSW|Australia|                11|  13|1.609375|\n",
      "|     Melba|    Spellacy|Female|                                 38|12-07-1970|1970| 51|        VP Marketing|               Health|    Mass Customer|                 N|      No|     4|0591 Anzinger Circle|    2232|  NSW|Australia|                10|  14| 1.59375|\n",
      "|    Mandie|      Feares|Female|                                 32|12-07-1971|1971| 50| Clinical Specialist|               Health|    Mass Customer|                 N|      No|    10|      39 Kedzie Pass|    4053|  QLD|Australia|                 8|  14| 1.59375|\n",
      "|     Dukie|       Swire|  Male|                                 88|12-07-1972|1972| 49|                null|        Manufacturing|Affluent Customer|                 N|     Yes|     5|   64 Granby Parkway|    2500|  NSW|Australia|                 8|  16|  1.5625|\n",
      "|  Marcelia|   Monkleigh|Female|                                 61|12-07-1973|1973| 48| Associate Professor|        Manufacturing|    Mass Customer|                 N|     Yes|     4|  610 Swallow Street|    4051|  QLD|Australia|                 6|  17|1.546875|\n",
      "| Winnifred|Beswetherick|Female|                                 83|12-07-1974|1974| 47|             Actuary|   Financial Services|    Mass Customer|                 N|      No|    14|       61 4th Street|    3040|  VIC|Australia|                10|  17|1.546875|\n",
      "|    Odilia|       Quick|Female|                                 65|09-11-1938|1938| 83|     General Manager|        Manufacturing|Affluent Customer|                 N|     Yes|    11|    1550 Russell Way|    2222|  NSW|Australia|                11|  19| 1.53125|\n",
      "|     Karly|   Willavize|Female|                                  2|12-08-1954|1954| 67|    Internal Auditor|        Manufacturing|   High Net Worth|                 N|      No|    12|     193 North Point|    2190|  NSW|Australia|                10|  19| 1.53125|\n",
      "+----------+------------+------+-----------------------------------+----------+----+---+--------------------+---------------------+-----------------+------------------+--------+------+--------------------+--------+-----+---------+------------------+----+--------+\n",
      "only showing top 20 rows\n",
      "\n"
     ]
    }
   ],
   "source": [
    "df.show()"
   ]
  },
  {
   "cell_type": "code",
   "execution_count": 10,
   "metadata": {},
   "outputs": [
    {
     "name": "stdout",
     "output_type": "stream",
     "text": [
      "+-------+----------+--------------------+------+-----------------------------------+----------+------------------+------------------+-------------------+---------------------+-----------------+------------------+--------+----------------+-------------+-----------------+-----+---------+------------------+------------------+------------------+\n",
      "|summary|first_name|           last_name|gender|past_3_years_bike_related_purchases|       DOB|               _c5|               Age|          job_title|job_industry_category|   wealth_segment|deceased_indicator|owns_car|          tenure|      address|         postcode|state|  country|property_valuation|              Rank|             Value|\n",
      "+-------+----------+--------------------+------+-----------------------------------+----------+------------------+------------------+-------------------+---------------------+-----------------+------------------+--------+----------------+-------------+-----------------+-----+---------+------------------+------------------+------------------+\n",
      "|  count|      1000|                 971|  1000|                               1000|       983|               983|              1000|                894|                 1000|             1000|              1000|    1000|            1000|         1000|             1000| 1000|     1000|              1000|              1000|              1000|\n",
      "|   mean|      null|                null|  null|                             49.836|      null|1970.6215666327569| 50.37843336724313|               null|                 null|             null|              null|    null|          11.388|         null|         3019.227| null|     null|             7.397|           498.819|0.8817140937500003|\n",
      "| stddev|      null|                null|  null|                 27.796686129101058|      null| 16.99680162758875|16.996801627588727|               null|                 null|             null|              null|    null|5.03714490846043|         null|848.8957671554818| null|     null|2.7588044515699197|288.81099707426495| 0.293524507951904|\n",
      "|    min|     Abbie|             A'field|Female|                                  0|01-01-1948|              1938|           #VALUE!|Account Coordinator|          Argiculture|Affluent Customer|                 N|      No|               0|  0 Bay Drive|             2000|  NSW|Australia|                 1|                 1|              0.34|\n",
      "|    max|    Zondra|de la Valette Par...|     U|                                 99|31-12-1978|              2002|               n/a|   Web Developer IV|                  n/a|    Mass Customer|                 N|     Yes|               9|998 Gale Park|             4879|  VIC|Australia|                 9|               997|           1.71875|\n",
      "+-------+----------+--------------------+------+-----------------------------------+----------+------------------+------------------+-------------------+---------------------+-----------------+------------------+--------+----------------+-------------+-----------------+-----+---------+------------------+------------------+------------------+\n",
      "\n"
     ]
    }
   ],
   "source": [
    "df.describe().show()"
   ]
  },
  {
   "cell_type": "code",
   "execution_count": 11,
   "metadata": {},
   "outputs": [
    {
     "name": "stdout",
     "output_type": "stream",
     "text": [
      "root\n",
      " |-- first_name: string (nullable = true)\n",
      " |-- last_name: string (nullable = true)\n",
      " |-- gender: string (nullable = true)\n",
      " |-- past_3_years_bike_related_purchases: string (nullable = true)\n",
      " |-- DOB: string (nullable = true)\n",
      " |-- _c5: string (nullable = true)\n",
      " |-- Age: string (nullable = true)\n",
      " |-- job_title: string (nullable = true)\n",
      " |-- job_industry_category: string (nullable = true)\n",
      " |-- wealth_segment: string (nullable = true)\n",
      " |-- deceased_indicator: string (nullable = true)\n",
      " |-- owns_car: string (nullable = true)\n",
      " |-- tenure: string (nullable = true)\n",
      " |-- address: string (nullable = true)\n",
      " |-- postcode: string (nullable = true)\n",
      " |-- state: string (nullable = true)\n",
      " |-- country: string (nullable = true)\n",
      " |-- property_valuation: string (nullable = true)\n",
      " |-- Rank: string (nullable = true)\n",
      " |-- Value: string (nullable = true)\n",
      "\n"
     ]
    }
   ],
   "source": [
    "df.printSchema()"
   ]
  },
  {
   "cell_type": "code",
   "execution_count": 12,
   "metadata": {},
   "outputs": [],
   "source": [
    "from pyspark.sql.types import (StructField,StringType,IntegerType,StructType)"
   ]
  },
  {
   "cell_type": "code",
   "execution_count": 13,
   "metadata": {},
   "outputs": [],
   "source": [
    "data_schema = [StructField('age',IntegerType(),True),\n",
    "              StructField('name',StringType(),True)]\n",
    "\n",
    "final_struct = StructType(fields=data_schema)"
   ]
  },
  {
   "cell_type": "code",
   "execution_count": 14,
   "metadata": {},
   "outputs": [
    {
     "name": "stdout",
     "output_type": "stream",
     "text": [
      "+----------+------------+------+-----------------------------------+----------+----+---+--------------------+---------------------+-----------------+------------------+--------+------+--------------------+--------+-----+---------+------------------+----+--------+\n",
      "|first_name|   last_name|gender|past_3_years_bike_related_purchases|       DOB| _c5|Age|           job_title|job_industry_category|   wealth_segment|deceased_indicator|owns_car|tenure|             address|postcode|state|  country|property_valuation|Rank|   Value|\n",
      "+----------+------------+------+-----------------------------------+----------+----+---+--------------------+---------------------+-----------------+------------------+--------+------+--------------------+--------+-----+---------+------------------+----+--------+\n",
      "|   Chickie|     Brister|  Male|                                 86|12-07-1957|1957| 64|     General Manager|        Manufacturing|    Mass Customer|                 N|     Yes|    14|    45 Shopko Center|    4500|  QLD|Australia|                 6|   1| 1.71875|\n",
      "|     Morly|      Genery|  Male|                                 69|12-07-1958|1958| 63| Structural Engineer|             Property|    Mass Customer|                 N|      No|    16|   14 Mccormick Park|    2113|  NSW|Australia|                11|   1| 1.71875|\n",
      "|   Ardelis|   Forrester|Female|                                 10|12-07-1959|1959| 62|Senior Cost Accou...|   Financial Services|Affluent Customer|                 N|      No|    10| 5 Colorado Crossing|    3505|  VIC|Australia|                 5|   1| 1.71875|\n",
      "|    Lucine|       Stutt|Female|                                 64|12-07-1960|1960| 61|Account Represent...|        Manufacturing|Affluent Customer|                 N|     Yes|     5|  207 Annamark Plaza|    4814|  QLD|Australia|                 1|   4|1.703125|\n",
      "|   Melinda|      Hadlee|Female|                                 34|12-07-1961|1961| 60|   Financial Analyst|   Financial Services|Affluent Customer|                 N|      No|    19|   115 Montana Place|    2093|  NSW|Australia|                 9|   4|1.703125|\n",
      "|     Druci|     Brandli|Female|                                 39|12-07-1962|1962| 59|Assistant Media P...|        Entertainment|   High Net Worth|                 N|     Yes|    22|89105 Pearson Ter...|    4075|  QLD|Australia|                 7|   6|1.671875|\n",
      "|  Rutledge|       Hallt|  Male|                                 23|12-07-1963|1963| 58|Compensation Analyst|   Financial Services|    Mass Customer|                 N|      No|     8|   7 Nevada Crossing|    2620|  NSW|Australia|                 7|   6|1.671875|\n",
      "|    Nancie|        Vian|Female|                                 74|12-07-1964|1964| 57|Human Resources A...|               Retail|    Mass Customer|                 N|     Yes|    10|    85 Carioca Point|    4814|  QLD|Australia|                 5|   8| 1.65625|\n",
      "|      Duff|   Karlowicz|  Male|                                 50|12-07-1965|1965| 56|  Speech Pathologist|        Manufacturing|    Mass Customer|                 N|     Yes|     5|      717 West Drive|    2200|  NSW|Australia|                10|   8| 1.65625|\n",
      "|   Barthel|      Docket|  Male|                                 72|12-07-1966|1966| 55|Accounting Assist...|                   IT|    Mass Customer|                 N|     Yes|    17|80 Scofield Junction|    4151|  QLD|Australia|                 5|  10|1.640625|\n",
      "|  Rockwell|      Matson|  Male|                                 94|12-07-1967|1967| 54|Programmer Analyst I|               Retail|   High Net Worth|                 N|      No|     3|  3682 Crowley Point|    4573|  QLD|Australia|                 6|  10|1.640625|\n",
      "|   Wheeler|     Winward|  Male|                                 48|12-07-1968|1968| 53|Environmental Spe...|        Manufacturing|    Mass Customer|                 N|      No|    10| 3 Golden Leaf Point|    3216|  VIC|Australia|                 8|  12|   1.625|\n",
      "|     Melba|    Spellacy|Female|                                 38|12-07-1970|1970| 51|        VP Marketing|               Health|    Mass Customer|                 N|      No|     4|0591 Anzinger Circle|    2232|  NSW|Australia|                10|  14| 1.59375|\n",
      "|    Mandie|      Feares|Female|                                 32|12-07-1971|1971| 50| Clinical Specialist|               Health|    Mass Customer|                 N|      No|    10|      39 Kedzie Pass|    4053|  QLD|Australia|                 8|  14| 1.59375|\n",
      "|  Marcelia|   Monkleigh|Female|                                 61|12-07-1973|1973| 48| Associate Professor|        Manufacturing|    Mass Customer|                 N|     Yes|     4|  610 Swallow Street|    4051|  QLD|Australia|                 6|  17|1.546875|\n",
      "| Winnifred|Beswetherick|Female|                                 83|12-07-1974|1974| 47|             Actuary|   Financial Services|    Mass Customer|                 N|      No|    14|       61 4th Street|    3040|  VIC|Australia|                10|  17|1.546875|\n",
      "|    Odilia|       Quick|Female|                                 65|09-11-1938|1938| 83|     General Manager|        Manufacturing|Affluent Customer|                 N|     Yes|    11|    1550 Russell Way|    2222|  NSW|Australia|                11|  19| 1.53125|\n",
      "|     Karly|   Willavize|Female|                                  2|12-08-1954|1954| 67|    Internal Auditor|        Manufacturing|   High Net Worth|                 N|      No|    12|     193 North Point|    2190|  NSW|Australia|                10|  19| 1.53125|\n",
      "|    Teddie|    Burchill|  Male|                                 11|21-12-1968|1968| 53|        Programmer I|        Manufacturing|    Mass Customer|                 N|     Yes|    13|     321 Raven Plaza|    2161|  NSW|Australia|                 9|  21|1.515625|\n",
      "|    Gaston|   Dallaghan|  Male|                                 44|29-09-1993|1993| 28|   Financial Analyst|   Financial Services|    Mass Customer|                 N|     Yes|     8|   656 Fuller Street|    2783|  NSW|Australia|                 7|  21|1.515625|\n",
      "+----------+------------+------+-----------------------------------+----------+----+---+--------------------+---------------------+-----------------+------------------+--------+------+--------------------+--------+-----+---------+------------------+----+--------+\n",
      "only showing top 20 rows\n",
      "\n"
     ]
    }
   ],
   "source": [
    "df.na.drop().show()"
   ]
  },
  {
   "cell_type": "code",
   "execution_count": 15,
   "metadata": {},
   "outputs": [
    {
     "data": {
      "text/plain": [
       "1000"
      ]
     },
     "execution_count": 15,
     "metadata": {},
     "output_type": "execute_result"
    }
   ],
   "source": [
    "df.count()"
   ]
  },
  {
   "cell_type": "code",
   "execution_count": 17,
   "metadata": {},
   "outputs": [
    {
     "data": {
      "text/plain": [
       "852"
      ]
     },
     "execution_count": 17,
     "metadata": {},
     "output_type": "execute_result"
    }
   ],
   "source": [
    "df.na.drop().count()"
   ]
  },
  {
   "cell_type": "code",
   "execution_count": 18,
   "metadata": {},
   "outputs": [
    {
     "name": "stdout",
     "output_type": "stream",
     "text": [
      "root\n",
      " |-- first_name: string (nullable = true)\n",
      " |-- last_name: string (nullable = true)\n",
      " |-- gender: string (nullable = true)\n",
      " |-- past_3_years_bike_related_purchases: string (nullable = true)\n",
      " |-- DOB: string (nullable = true)\n",
      " |-- _c5: string (nullable = true)\n",
      " |-- Age: string (nullable = true)\n",
      " |-- job_title: string (nullable = true)\n",
      " |-- job_industry_category: string (nullable = true)\n",
      " |-- wealth_segment: string (nullable = true)\n",
      " |-- deceased_indicator: string (nullable = true)\n",
      " |-- owns_car: string (nullable = true)\n",
      " |-- tenure: string (nullable = true)\n",
      " |-- address: string (nullable = true)\n",
      " |-- postcode: string (nullable = true)\n",
      " |-- state: string (nullable = true)\n",
      " |-- country: string (nullable = true)\n",
      " |-- property_valuation: string (nullable = true)\n",
      " |-- Rank: string (nullable = true)\n",
      " |-- Value: string (nullable = true)\n",
      "\n"
     ]
    }
   ],
   "source": [
    "df.printSchema()"
   ]
  },
  {
   "cell_type": "code",
   "execution_count": 19,
   "metadata": {},
   "outputs": [
    {
     "name": "stdout",
     "output_type": "stream",
     "text": [
      "+---+\n",
      "|age|\n",
      "+---+\n",
      "| 64|\n",
      "| 63|\n",
      "| 62|\n",
      "| 61|\n",
      "| 60|\n",
      "| 59|\n",
      "| 58|\n",
      "| 57|\n",
      "| 56|\n",
      "| 55|\n",
      "| 54|\n",
      "| 53|\n",
      "| 52|\n",
      "| 51|\n",
      "| 50|\n",
      "| 49|\n",
      "| 48|\n",
      "| 47|\n",
      "| 83|\n",
      "| 67|\n",
      "+---+\n",
      "only showing top 20 rows\n",
      "\n"
     ]
    }
   ],
   "source": [
    "df.select('age').show()"
   ]
  },
  {
   "cell_type": "code",
   "execution_count": 20,
   "metadata": {},
   "outputs": [
    {
     "name": "stdout",
     "output_type": "stream",
     "text": [
      "+---+\n",
      "|age|\n",
      "+---+\n",
      "| 64|\n",
      "| 63|\n",
      "| 62|\n",
      "| 61|\n",
      "| 60|\n",
      "| 59|\n",
      "| 58|\n",
      "| 57|\n",
      "| 56|\n",
      "| 55|\n",
      "| 54|\n",
      "| 53|\n",
      "| 52|\n",
      "| 51|\n",
      "| 50|\n",
      "| 49|\n",
      "| 48|\n",
      "| 47|\n",
      "| 83|\n",
      "| 67|\n",
      "+---+\n",
      "only showing top 20 rows\n",
      "\n"
     ]
    }
   ],
   "source": [
    "ageColumn = df.select('age')\n",
    "\n",
    "ageColumn.show()"
   ]
  },
  {
   "cell_type": "code",
   "execution_count": 21,
   "metadata": {},
   "outputs": [
    {
     "name": "stdout",
     "output_type": "stream",
     "text": [
      "+----------+------------+------+-----------------------------------+----------+----+---+--------------------+---------------------+-----------------+------------------+--------+------+--------------------+--------+-----+---------+------------------+----+--------+----------+\n",
      "|first_name|   last_name|gender|past_3_years_bike_related_purchases|       DOB| _c5|Age|           job_title|job_industry_category|   wealth_segment|deceased_indicator|owns_car|tenure|             address|postcode|state|  country|property_valuation|Rank|   Value|double_age|\n",
      "+----------+------------+------+-----------------------------------+----------+----+---+--------------------+---------------------+-----------------+------------------+--------+------+--------------------+--------+-----+---------+------------------+----+--------+----------+\n",
      "|   Chickie|     Brister|  Male|                                 86|12-07-1957|1957| 64|     General Manager|        Manufacturing|    Mass Customer|                 N|     Yes|    14|    45 Shopko Center|    4500|  QLD|Australia|                 6|   1| 1.71875|     128.0|\n",
      "|     Morly|      Genery|  Male|                                 69|12-07-1958|1958| 63| Structural Engineer|             Property|    Mass Customer|                 N|      No|    16|   14 Mccormick Park|    2113|  NSW|Australia|                11|   1| 1.71875|     126.0|\n",
      "|   Ardelis|   Forrester|Female|                                 10|12-07-1959|1959| 62|Senior Cost Accou...|   Financial Services|Affluent Customer|                 N|      No|    10| 5 Colorado Crossing|    3505|  VIC|Australia|                 5|   1| 1.71875|     124.0|\n",
      "|    Lucine|       Stutt|Female|                                 64|12-07-1960|1960| 61|Account Represent...|        Manufacturing|Affluent Customer|                 N|     Yes|     5|  207 Annamark Plaza|    4814|  QLD|Australia|                 1|   4|1.703125|     122.0|\n",
      "|   Melinda|      Hadlee|Female|                                 34|12-07-1961|1961| 60|   Financial Analyst|   Financial Services|Affluent Customer|                 N|      No|    19|   115 Montana Place|    2093|  NSW|Australia|                 9|   4|1.703125|     120.0|\n",
      "|     Druci|     Brandli|Female|                                 39|12-07-1962|1962| 59|Assistant Media P...|        Entertainment|   High Net Worth|                 N|     Yes|    22|89105 Pearson Ter...|    4075|  QLD|Australia|                 7|   6|1.671875|     118.0|\n",
      "|  Rutledge|       Hallt|  Male|                                 23|12-07-1963|1963| 58|Compensation Analyst|   Financial Services|    Mass Customer|                 N|      No|     8|   7 Nevada Crossing|    2620|  NSW|Australia|                 7|   6|1.671875|     116.0|\n",
      "|    Nancie|        Vian|Female|                                 74|12-07-1964|1964| 57|Human Resources A...|               Retail|    Mass Customer|                 N|     Yes|    10|    85 Carioca Point|    4814|  QLD|Australia|                 5|   8| 1.65625|     114.0|\n",
      "|      Duff|   Karlowicz|  Male|                                 50|12-07-1965|1965| 56|  Speech Pathologist|        Manufacturing|    Mass Customer|                 N|     Yes|     5|      717 West Drive|    2200|  NSW|Australia|                10|   8| 1.65625|     112.0|\n",
      "|   Barthel|      Docket|  Male|                                 72|12-07-1966|1966| 55|Accounting Assist...|                   IT|    Mass Customer|                 N|     Yes|    17|80 Scofield Junction|    4151|  QLD|Australia|                 5|  10|1.640625|     110.0|\n",
      "|  Rockwell|      Matson|  Male|                                 94|12-07-1967|1967| 54|Programmer Analyst I|               Retail|   High Net Worth|                 N|      No|     3|  3682 Crowley Point|    4573|  QLD|Australia|                 6|  10|1.640625|     108.0|\n",
      "|   Wheeler|     Winward|  Male|                                 48|12-07-1968|1968| 53|Environmental Spe...|        Manufacturing|    Mass Customer|                 N|      No|    10| 3 Golden Leaf Point|    3216|  VIC|Australia|                 8|  12|   1.625|     106.0|\n",
      "|      Olag|        null|  Male|                                 60|12-07-1969|1969| 52|Human Resources M...|   Telecommunications|    Mass Customer|                 N|      No|     9|   0484 North Avenue|    2032|  NSW|Australia|                11|  13|1.609375|     104.0|\n",
      "|     Melba|    Spellacy|Female|                                 38|12-07-1970|1970| 51|        VP Marketing|               Health|    Mass Customer|                 N|      No|     4|0591 Anzinger Circle|    2232|  NSW|Australia|                10|  14| 1.59375|     102.0|\n",
      "|    Mandie|      Feares|Female|                                 32|12-07-1971|1971| 50| Clinical Specialist|               Health|    Mass Customer|                 N|      No|    10|      39 Kedzie Pass|    4053|  QLD|Australia|                 8|  14| 1.59375|     100.0|\n",
      "|     Dukie|       Swire|  Male|                                 88|12-07-1972|1972| 49|                null|        Manufacturing|Affluent Customer|                 N|     Yes|     5|   64 Granby Parkway|    2500|  NSW|Australia|                 8|  16|  1.5625|      98.0|\n",
      "|  Marcelia|   Monkleigh|Female|                                 61|12-07-1973|1973| 48| Associate Professor|        Manufacturing|    Mass Customer|                 N|     Yes|     4|  610 Swallow Street|    4051|  QLD|Australia|                 6|  17|1.546875|      96.0|\n",
      "| Winnifred|Beswetherick|Female|                                 83|12-07-1974|1974| 47|             Actuary|   Financial Services|    Mass Customer|                 N|      No|    14|       61 4th Street|    3040|  VIC|Australia|                10|  17|1.546875|      94.0|\n",
      "|    Odilia|       Quick|Female|                                 65|09-11-1938|1938| 83|     General Manager|        Manufacturing|Affluent Customer|                 N|     Yes|    11|    1550 Russell Way|    2222|  NSW|Australia|                11|  19| 1.53125|     166.0|\n",
      "|     Karly|   Willavize|Female|                                  2|12-08-1954|1954| 67|    Internal Auditor|        Manufacturing|   High Net Worth|                 N|      No|    12|     193 North Point|    2190|  NSW|Australia|                10|  19| 1.53125|     134.0|\n",
      "+----------+------------+------+-----------------------------------+----------+----+---+--------------------+---------------------+-----------------+------------------+--------+------+--------------------+--------+-----+---------+------------------+----+--------+----------+\n",
      "only showing top 20 rows\n",
      "\n"
     ]
    }
   ],
   "source": [
    "df.withColumn('double_age',df['age']*2).show()"
   ]
  },
  {
   "cell_type": "code",
   "execution_count": 22,
   "metadata": {},
   "outputs": [],
   "source": [
    "df.createOrReplaceTempView('people')"
   ]
  },
  {
   "cell_type": "code",
   "execution_count": 23,
   "metadata": {},
   "outputs": [],
   "source": [
    "results = spark.sql(\"SELECT * FROM people\")"
   ]
  },
  {
   "cell_type": "code",
   "execution_count": 24,
   "metadata": {},
   "outputs": [
    {
     "name": "stdout",
     "output_type": "stream",
     "text": [
      "+---+\n",
      "|age|\n",
      "+---+\n",
      "| 64|\n",
      "| 63|\n",
      "| 62|\n",
      "| 61|\n",
      "| 60|\n",
      "| 59|\n",
      "| 58|\n",
      "| 57|\n",
      "| 56|\n",
      "| 55|\n",
      "| 54|\n",
      "| 53|\n",
      "| 52|\n",
      "| 51|\n",
      "| 50|\n",
      "| 49|\n",
      "| 48|\n",
      "| 47|\n",
      "| 83|\n",
      "| 67|\n",
      "+---+\n",
      "only showing top 20 rows\n",
      "\n"
     ]
    }
   ],
   "source": [
    "results = spark.sql(\"SELECT age FROM people WHERE age >= 19\")\n",
    "results.show()"
   ]
  },
  {
   "cell_type": "code",
   "execution_count": 25,
   "metadata": {},
   "outputs": [
    {
     "name": "stdout",
     "output_type": "stream",
     "text": [
      "+----------+------------+------+-----------------------------------+----------+----+---+--------------------+---------------------+-----------------+------------------+--------+------+--------------------+--------+-----+---------+------------------+----+--------+\n",
      "|first_name|   last_name|gender|past_3_years_bike_related_purchases|       DOB| _c5|Age|           job_title|job_industry_category|   wealth_segment|deceased_indicator|owns_car|tenure|             address|postcode|state|  country|property_valuation|Rank|   Value|\n",
      "+----------+------------+------+-----------------------------------+----------+----+---+--------------------+---------------------+-----------------+------------------+--------+------+--------------------+--------+-----+---------+------------------+----+--------+\n",
      "|   Chickie|     Brister|  Male|                                 86|12-07-1957|1957| 64|     General Manager|        Manufacturing|    Mass Customer|                 N|     Yes|    14|    45 Shopko Center|    4500|  QLD|Australia|                 6|   1| 1.71875|\n",
      "|     Morly|      Genery|  Male|                                 69|12-07-1958|1958| 63| Structural Engineer|             Property|    Mass Customer|                 N|      No|    16|   14 Mccormick Park|    2113|  NSW|Australia|                11|   1| 1.71875|\n",
      "|   Ardelis|   Forrester|Female|                                 10|12-07-1959|1959| 62|Senior Cost Accou...|   Financial Services|Affluent Customer|                 N|      No|    10| 5 Colorado Crossing|    3505|  VIC|Australia|                 5|   1| 1.71875|\n",
      "|    Lucine|       Stutt|Female|                                 64|12-07-1960|1960| 61|Account Represent...|        Manufacturing|Affluent Customer|                 N|     Yes|     5|  207 Annamark Plaza|    4814|  QLD|Australia|                 1|   4|1.703125|\n",
      "|   Melinda|      Hadlee|Female|                                 34|12-07-1961|1961| 60|   Financial Analyst|   Financial Services|Affluent Customer|                 N|      No|    19|   115 Montana Place|    2093|  NSW|Australia|                 9|   4|1.703125|\n",
      "|     Druci|     Brandli|Female|                                 39|12-07-1962|1962| 59|Assistant Media P...|        Entertainment|   High Net Worth|                 N|     Yes|    22|89105 Pearson Ter...|    4075|  QLD|Australia|                 7|   6|1.671875|\n",
      "|  Rutledge|       Hallt|  Male|                                 23|12-07-1963|1963| 58|Compensation Analyst|   Financial Services|    Mass Customer|                 N|      No|     8|   7 Nevada Crossing|    2620|  NSW|Australia|                 7|   6|1.671875|\n",
      "|    Nancie|        Vian|Female|                                 74|12-07-1964|1964| 57|Human Resources A...|               Retail|    Mass Customer|                 N|     Yes|    10|    85 Carioca Point|    4814|  QLD|Australia|                 5|   8| 1.65625|\n",
      "|      Duff|   Karlowicz|  Male|                                 50|12-07-1965|1965| 56|  Speech Pathologist|        Manufacturing|    Mass Customer|                 N|     Yes|     5|      717 West Drive|    2200|  NSW|Australia|                10|   8| 1.65625|\n",
      "|   Barthel|      Docket|  Male|                                 72|12-07-1966|1966| 55|Accounting Assist...|                   IT|    Mass Customer|                 N|     Yes|    17|80 Scofield Junction|    4151|  QLD|Australia|                 5|  10|1.640625|\n",
      "|  Rockwell|      Matson|  Male|                                 94|12-07-1967|1967| 54|Programmer Analyst I|               Retail|   High Net Worth|                 N|      No|     3|  3682 Crowley Point|    4573|  QLD|Australia|                 6|  10|1.640625|\n",
      "|   Wheeler|     Winward|  Male|                                 48|12-07-1968|1968| 53|Environmental Spe...|        Manufacturing|    Mass Customer|                 N|      No|    10| 3 Golden Leaf Point|    3216|  VIC|Australia|                 8|  12|   1.625|\n",
      "|      Olag|        null|  Male|                                 60|12-07-1969|1969| 52|Human Resources M...|   Telecommunications|    Mass Customer|                 N|      No|     9|   0484 North Avenue|    2032|  NSW|Australia|                11|  13|1.609375|\n",
      "|     Melba|    Spellacy|Female|                                 38|12-07-1970|1970| 51|        VP Marketing|               Health|    Mass Customer|                 N|      No|     4|0591 Anzinger Circle|    2232|  NSW|Australia|                10|  14| 1.59375|\n",
      "|    Mandie|      Feares|Female|                                 32|12-07-1971|1971| 50| Clinical Specialist|               Health|    Mass Customer|                 N|      No|    10|      39 Kedzie Pass|    4053|  QLD|Australia|                 8|  14| 1.59375|\n",
      "|     Dukie|       Swire|  Male|                                 88|12-07-1972|1972| 49|                null|        Manufacturing|Affluent Customer|                 N|     Yes|     5|   64 Granby Parkway|    2500|  NSW|Australia|                 8|  16|  1.5625|\n",
      "|  Marcelia|   Monkleigh|Female|                                 61|12-07-1973|1973| 48| Associate Professor|        Manufacturing|    Mass Customer|                 N|     Yes|     4|  610 Swallow Street|    4051|  QLD|Australia|                 6|  17|1.546875|\n",
      "| Winnifred|Beswetherick|Female|                                 83|12-07-1974|1974| 47|             Actuary|   Financial Services|    Mass Customer|                 N|      No|    14|       61 4th Street|    3040|  VIC|Australia|                10|  17|1.546875|\n",
      "|    Odilia|       Quick|Female|                                 65|09-11-1938|1938| 83|     General Manager|        Manufacturing|Affluent Customer|                 N|     Yes|    11|    1550 Russell Way|    2222|  NSW|Australia|                11|  19| 1.53125|\n",
      "|     Karly|   Willavize|Female|                                  2|12-08-1954|1954| 67|    Internal Auditor|        Manufacturing|   High Net Worth|                 N|      No|    12|     193 North Point|    2190|  NSW|Australia|                10|  19| 1.53125|\n",
      "+----------+------------+------+-----------------------------------+----------+----+---+--------------------+---------------------+-----------------+------------------+--------+------+--------------------+--------+-----+---------+------------------+----+--------+\n",
      "only showing top 20 rows\n",
      "\n"
     ]
    }
   ],
   "source": [
    "df.na.drop(how=\"all\").show()"
   ]
  },
  {
   "cell_type": "code",
   "execution_count": 32,
   "metadata": {},
   "outputs": [
    {
     "name": "stdout",
     "output_type": "stream",
     "text": [
      "   customer_id      first_name  last_name  gender  \\\n",
      "0            1         Laraine  Medendorp       F   \n",
      "1            2             Eli    Bockman    Male   \n",
      "2            3           Arlin     Dearle    Male   \n",
      "3            4          Talbot        NaN    Male   \n",
      "4            5  Sheila-kathryn     Calton  Female   \n",
      "\n",
      "   past_3_years_bike_related_purchases         DOB               job_title  \\\n",
      "0                                   93  1953/10/12     Executive Secretary   \n",
      "1                                   81  1980/12/16  Administrative Officer   \n",
      "2                                   61   1954/1/20      Recruiting Manager   \n",
      "3                                   33   1961/10/3                     NaN   \n",
      "4                                   56   1977/5/13           Senior Editor   \n",
      "\n",
      "  job_industry_category     wealth_segment deceased_indicator  \\\n",
      "0                Health      Mass Customer                  N   \n",
      "1    Financial Services      Mass Customer                  N   \n",
      "2              Property      Mass Customer                  N   \n",
      "3                    IT      Mass Customer                  N   \n",
      "4                   NaN  Affluent Customer                  N   \n",
      "\n",
      "                                             default owns_car  tenure  \n",
      "0                                                 \"'      Yes    11.0  \n",
      "1                       <script>alert('hi')</script>      Yes    16.0  \n",
      "2                                             01-Feb      Yes    15.0  \n",
      "3  () { _; } >_[$($())] { touch /tmp/blns.shellsh...       No     7.0  \n",
      "4                                                NIL      Yes     8.0  \n",
      "   customer_id              address  postcode            state    country  \\\n",
      "0            1   060 Morning Avenue      2016  New South Wales  Australia   \n",
      "1            2  6 Meadow Vale Court      2153  New South Wales  Australia   \n",
      "2            4   0 Holy Cross Court      4211              QLD  Australia   \n",
      "3            5  17979 Del Mar Point      2448  New South Wales  Australia   \n",
      "4            6     9 Oakridge Court      3216              VIC  Australia   \n",
      "\n",
      "   property_valuation  \n",
      "0                  10  \n",
      "1                  10  \n",
      "2                   9  \n",
      "3                   4  \n",
      "4                   9  \n",
      "   customer_id      first_name  last_name  gender  \\\n",
      "0            1         Laraine  Medendorp       F   \n",
      "1            2             Eli    Bockman    Male   \n",
      "2            4          Talbot        NaN    Male   \n",
      "3            5  Sheila-kathryn     Calton  Female   \n",
      "4            6            Curr  Duckhouse    Male   \n",
      "\n",
      "   past_3_years_bike_related_purchases         DOB               job_title  \\\n",
      "0                                   93  1953/10/12     Executive Secretary   \n",
      "1                                   81  1980/12/16  Administrative Officer   \n",
      "2                                   33   1961/10/3                     NaN   \n",
      "3                                   56   1977/5/13           Senior Editor   \n",
      "4                                   35   1966/9/16                     NaN   \n",
      "\n",
      "  job_industry_category     wealth_segment deceased_indicator  \\\n",
      "0                Health      Mass Customer                  N   \n",
      "1    Financial Services      Mass Customer                  N   \n",
      "2                    IT      Mass Customer                  N   \n",
      "3                   NaN  Affluent Customer                  N   \n",
      "4                Retail     High Net Worth                  N   \n",
      "\n",
      "                                             default owns_car  tenure  \\\n",
      "0                                                 \"'      Yes    11.0   \n",
      "1                       <script>alert('hi')</script>      Yes    16.0   \n",
      "2  () { _; } >_[$($())] { touch /tmp/blns.shellsh...       No     7.0   \n",
      "3                                                NIL      Yes     8.0   \n",
      "4                                           ?? ? ? ?      Yes    13.0   \n",
      "\n",
      "               address  postcode            state    country  \\\n",
      "0   060 Morning Avenue      2016  New South Wales  Australia   \n",
      "1  6 Meadow Vale Court      2153  New South Wales  Australia   \n",
      "2   0 Holy Cross Court      4211              QLD  Australia   \n",
      "3  17979 Del Mar Point      2448  New South Wales  Australia   \n",
      "4     9 Oakridge Court      3216              VIC  Australia   \n",
      "\n",
      "   property_valuation  \n",
      "0                  10  \n",
      "1                  10  \n",
      "2                   9  \n",
      "3                   4  \n",
      "4                   9  \n"
     ]
    }
   ],
   "source": [
    "import pandas\n",
    "\n",
    "demographic=pandas.read_csv(\"customer demographic.csv\")\n",
    "print(demographic.head())\n",
    "address=pandas.read_csv(\"customer address.csv\")\n",
    "print(address.head())\n",
    "\n",
    "merger = pandas.merge(demographic, address, on=['customer_id'])\n",
    "print(merger.head())"
   ]
  },
  {
   "cell_type": "code",
   "execution_count": null,
   "metadata": {},
   "outputs": [],
   "source": []
  },
  {
   "cell_type": "code",
   "execution_count": null,
   "metadata": {},
   "outputs": [],
   "source": []
  },
  {
   "cell_type": "code",
   "execution_count": null,
   "metadata": {},
   "outputs": [],
   "source": []
  },
  {
   "cell_type": "code",
   "execution_count": null,
   "metadata": {},
   "outputs": [],
   "source": []
  },
  {
   "cell_type": "code",
   "execution_count": null,
   "metadata": {},
   "outputs": [],
   "source": []
  }
 ],
 "metadata": {
  "kernelspec": {
   "display_name": "Python 3",
   "language": "python",
   "name": "python3"
  },
  "language_info": {
   "codemirror_mode": {
    "name": "ipython",
    "version": 3
   },
   "file_extension": ".py",
   "mimetype": "text/x-python",
   "name": "python",
   "nbconvert_exporter": "python",
   "pygments_lexer": "ipython3",
   "version": "3.5.2"
  }
 },
 "nbformat": 4,
 "nbformat_minor": 2
}
